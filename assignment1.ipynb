{
 "cells": [
  {
   "cell_type": "code",
   "execution_count": null,
   "id": "ed9872e3-4947-4abc-95de-6a162e07fd5f",
   "metadata": {},
   "outputs": [],
   "source": [
    "#Q1  # String variable"
   ]
  },
  {
   "cell_type": "code",
   "execution_count": 3,
   "id": "a8984980-5b66-49f1-aafe-bf6af895ae21",
   "metadata": {},
   "outputs": [],
   "source": [
    "my_string=\"pw skills\""
   ]
  },
  {
   "cell_type": "code",
   "execution_count": 4,
   "id": "bb77020f-1bec-4774-8048-90738bcc8bb5",
   "metadata": {},
   "outputs": [],
   "source": [
    "#list variable "
   ]
  },
  {
   "cell_type": "code",
   "execution_count": 5,
   "id": "5d954b7b-125e-43de-adbf-e6645a63774d",
   "metadata": {},
   "outputs": [],
   "source": [
    "mylist=[1,2,32,4,5,8,]"
   ]
  },
  {
   "cell_type": "code",
   "execution_count": 6,
   "id": "6748c00f-38c2-43d7-9fb6-83a4642613a6",
   "metadata": {},
   "outputs": [],
   "source": [
    "#float variable "
   ]
  },
  {
   "cell_type": "code",
   "execution_count": 7,
   "id": "33a8010a-4836-46a5-a9a5-def0f6753cf0",
   "metadata": {},
   "outputs": [],
   "source": [
    "myfloat=456.369"
   ]
  },
  {
   "cell_type": "code",
   "execution_count": 8,
   "id": "06b4a4ec-b7e3-4aec-abe1-b47db3ca2b2d",
   "metadata": {},
   "outputs": [],
   "source": [
    "#tuple variable"
   ]
  },
  {
   "cell_type": "code",
   "execution_count": 9,
   "id": "95c20a86-e43e-45dc-9972-93a6c7f18247",
   "metadata": {},
   "outputs": [],
   "source": [
    "mytuple=(10,20,30,40,50)"
   ]
  },
  {
   "cell_type": "code",
   "execution_count": 16,
   "id": "4627aa16-45c1-4bac-b4a2-716538f8c210",
   "metadata": {},
   "outputs": [],
   "source": [
    "#Q2  #var1 = ‘ ‘\n",
    "#var2 = ‘[ DS , ML , Python]’\n",
    "#var3 = [ ‘DS’ , ’ML’ , ‘Python’ ]\n",
    "#var4 = 1."
   ]
  },
  {
   "cell_type": "code",
   "execution_count": 15,
   "id": "a73b6508-d508-4802-933b-0eeb905e1bc0",
   "metadata": {},
   "outputs": [],
   "source": [
    "#The data types of the given variables are as follows:\n",
    "\n",
    "#(i) var1 is a string.\n",
    "#(ii) var2 is also a string.\n",
    "#(iii) var3 is a list.\n",
    "#(iv) var4 is a float."
   ]
  },
  {
   "cell_type": "code",
   "execution_count": 14,
   "id": "b87110f8-3e18-4908-8afa-adf69543d165",
   "metadata": {},
   "outputs": [],
   "source": [
    "#Q3  #(i) /\n",
    "#(ii) %\n",
    "#(iii) //\n",
    "#(iv) **"
   ]
  },
  {
   "cell_type": "code",
   "execution_count": 17,
   "id": "4907819f-17e2-4d8d-a358-127dd45ef9b7",
   "metadata": {},
   "outputs": [
    {
     "data": {
      "text/plain": [
       "0.8"
      ]
     },
     "execution_count": 17,
     "metadata": {},
     "output_type": "execute_result"
    }
   ],
   "source": [
    "#/ is division operater ex\n",
    "4/5"
   ]
  },
  {
   "cell_type": "code",
   "execution_count": 19,
   "id": "5857d096-5c01-4991-926a-03e0457e33de",
   "metadata": {},
   "outputs": [
    {
     "data": {
      "text/plain": [
       "5"
      ]
     },
     "execution_count": 19,
     "metadata": {},
     "output_type": "execute_result"
    }
   ],
   "source": [
    "# % modulus operater ex\n",
    "5%7"
   ]
  },
  {
   "cell_type": "code",
   "execution_count": 20,
   "id": "4174395b-2314-40d5-a7a4-0d1b3f3448be",
   "metadata": {},
   "outputs": [
    {
     "data": {
      "text/plain": [
       "0"
      ]
     },
     "execution_count": 20,
     "metadata": {},
     "output_type": "execute_result"
    }
   ],
   "source": [
    "# // division flur ex\n",
    "54//78"
   ]
  },
  {
   "cell_type": "code",
   "execution_count": 4,
   "id": "3873d5b6-1308-43e8-ba82-18a038d8d38b",
   "metadata": {},
   "outputs": [
    {
     "data": {
      "text/plain": [
       "16"
      ]
     },
     "execution_count": 4,
     "metadata": {},
     "output_type": "execute_result"
    }
   ],
   "source": [
    "# ** exponent power operater ex\n",
    "2**4"
   ]
  },
  {
   "cell_type": "code",
   "execution_count": 27,
   "id": "fd655050-8406-4311-8432-4c8452c8e087",
   "metadata": {},
   "outputs": [],
   "source": [
    "mylist=[1,2,3,4,5,6,7,8,9,10,\"pwskills\",4578.369]\n"
   ]
  },
  {
   "cell_type": "code",
   "execution_count": 11,
   "id": "2ead97b0-7059-427b-908f-3b0f81c93e23",
   "metadata": {},
   "outputs": [
    {
     "name": "stdout",
     "output_type": "stream",
     "text": [
      "1 is not divisible by 3\n",
      "2 is not divisible by 3\n",
      "3 is divisible by 3\n",
      "4 is not divisible by 3\n",
      "5 is not divisible by 3\n",
      "6 is divisible by 3\n",
      "7 is not divisible by 3\n",
      "8 is not divisible by 3\n",
      "9 is divisible by 3\n",
      "10 is not divisible by 3\n",
      "11 is not divisible by 3\n",
      "12 is divisible by 3\n",
      "13 is not divisible by 3\n",
      "14 is not divisible by 3\n",
      "15 is divisible by 3\n",
      "16 is not divisible by 3\n",
      "17 is not divisible by 3\n",
      "18 is divisible by 3\n",
      "19 is not divisible by 3\n",
      "20 is not divisible by 3\n",
      "21 is divisible by 3\n",
      "22 is not divisible by 3\n",
      "23 is not divisible by 3\n",
      "24 is divisible by 3\n",
      "25 is not divisible by 3\n"
     ]
    }
   ],
   "source": [
    "# Create an empty list\n",
    "numbers = []\n",
    "\n",
    "# Populate the list with 25 integers\n",
    "for i in range(1, 26):\n",
    "    numbers.append(i)\n",
    "\n",
    "# Check if each element in the list is divisible by 3\n",
    "for num in numbers:\n",
    "    if num % 3 == 0:\n",
    "        print(f\"{num} is divisible by 3\")\n",
    "    else:\n",
    "        print(f\"{num} is not divisible by 3\")"
   ]
  },
  {
   "cell_type": "code",
   "execution_count": 11,
   "id": "a5ed4574",
   "metadata": {},
   "outputs": [
    {
     "name": "stdout",
     "output_type": "stream",
     "text": [
      "1 is not divisible by 3\n",
      "2 is not divisible by 3\n",
      "3 is divisible by 3\n",
      "4 is not divisible by 3\n",
      "5 is not divisible by 3\n",
      "6 is divisible by 3\n",
      "7 is not divisible by 3\n",
      "8 is not divisible by 3\n",
      "9 is divisible by 3\n",
      "10 is not divisible by 3\n",
      "11 is not divisible by 3\n",
      "12 is divisible by 3\n",
      "13 is not divisible by 3\n",
      "14 is not divisible by 3\n",
      "15 is divisible by 3\n",
      "16 is not divisible by 3\n",
      "17 is not divisible by 3\n",
      "18 is divisible by 3\n",
      "19 is not divisible by 3\n",
      "20 is not divisible by 3\n",
      "21 is divisible by 3\n",
      "22 is not divisible by 3\n",
      "23 is not divisible by 3\n",
      "24 is divisible by 3\n",
      "25 is not divisible by 3\n"
     ]
    }
   ],
   "source": [
    "# Create an empty list\n",
    "numbers = []\n",
    "\n",
    "# Populate the list with 25 integers\n",
    "for i in range(1, 26):\n",
    "    numbers.append(i)\n",
    "\n",
    "# Check if each element in the list is divisible by 3\n",
    "for num in numbers:\n",
    "    if num % 3 == 0:\n",
    "        print(f\"{num} is divisible by 3\")\n",
    "    else:\n",
    "        print(f\"{num} is not divisible by 3\")"
   ]
  },
  {
   "cell_type": "code",
   "execution_count": 12,
   "id": "268819dd-b83b-4c10-ac0d-74d56b9c5a21",
   "metadata": {},
   "outputs": [
    {
     "name": "stdin",
     "output_type": "stream",
     "text": [
      "Enter the value of A:  44\n",
      "Enter the value of B:  44\n"
     ]
    },
    {
     "name": "stdout",
     "output_type": "stream",
     "text": [
      "A is not divisible by B\n"
     ]
    }
   ],
   "source": [
    "#Q 5\n",
    "A = int(input(\"Enter the value of A: \"))\n",
    "B = int(input(\"Enter the value of B: \"))\n",
    "\n",
    "count = 0\n",
    "\n",
    "while A % B == 0:\n",
    "    A = A // B\n",
    "    count += 1\n",
    "\n",
    "if A == 0:\n",
    "    print(\"A is divisible by B\")\n",
    "    print(\"Number of divisions:\", count)\n",
    "else:\n",
    "    print(\"A is not divisible by B\")"
   ]
  },
  {
   "cell_type": "code",
   "execution_count": 14,
   "id": "743cc3c6-cce9-49d1-8422-f147ec3c21e8",
   "metadata": {},
   "outputs": [
    {
     "name": "stdout",
     "output_type": "stream",
     "text": [
      "1 is not divisible by 3\n",
      "2 is not divisible by 3\n",
      "3 is divisible by 3\n",
      "4 is not divisible by 3\n",
      "5 is not divisible by 3\n",
      "6 is divisible by 3\n",
      "7 is not divisible by 3\n",
      "8 is not divisible by 3\n",
      "9 is divisible by 3\n",
      "10 is not divisible by 3\n",
      "11 is not divisible by 3\n",
      "12 is divisible by 3\n",
      "13 is not divisible by 3\n",
      "14 is not divisible by 3\n",
      "15 is divisible by 3\n",
      "16 is not divisible by 3\n",
      "17 is not divisible by 3\n",
      "18 is divisible by 3\n",
      "19 is not divisible by 3\n",
      "20 is not divisible by 3\n",
      "21 is divisible by 3\n",
      "22 is not divisible by 3\n",
      "23 is not divisible by 3\n",
      "24 is divisible by 3\n",
      "25 is not divisible by 3\n"
     ]
    }
   ],
   "source": [
    "#Q 6\n",
    "# Create an empty list\n",
    "numbers = []\n",
    "\n",
    "# Populate the list with 25 integers\n",
    "for i in range(1, 26):\n",
    "    numbers.append(i)\n",
    "\n",
    "# Check if each element in the list is divisible by 3\n",
    "for num in numbers:\n",
    "    if num % 3 == 0:\n",
    "        print(f\"{num} is divisible by 3\")\n",
    "    else:\n",
    "        print(f\"{num} is not divisible by 3\")\n"
   ]
  },
  {
   "cell_type": "code",
   "execution_count": 15,
   "id": "5775c262-cdb8-4b3e-beb5-8a7d463c89f9",
   "metadata": {},
   "outputs": [],
   "source": [
    "#Q 7\n",
    "# the value allow you to change its value without change its identity it is called mutable object\n",
    "#the value not allow to change object it is called immutable object \n"
   ]
  },
  {
   "cell_type": "code",
   "execution_count": 17,
   "id": "26c7e455-17ec-4c48-8703-e071b562f425",
   "metadata": {},
   "outputs": [],
   "source": [
    "l=[1,2,3,4,5,6,7,8,9,\"ayan\",6958.325]"
   ]
  },
  {
   "cell_type": "code",
   "execution_count": 18,
   "id": "f8289464-c99d-4354-8c64-c416cd359fec",
   "metadata": {},
   "outputs": [
    {
     "data": {
      "text/plain": [
       "5"
      ]
     },
     "execution_count": 18,
     "metadata": {},
     "output_type": "execute_result"
    }
   ],
   "source": [
    "l[4]"
   ]
  },
  {
   "cell_type": "code",
   "execution_count": 19,
   "id": "cda605e4-77a4-4820-b929-38786c2ed33d",
   "metadata": {},
   "outputs": [],
   "source": [
    "l[4]=79"
   ]
  },
  {
   "cell_type": "code",
   "execution_count": 20,
   "id": "d35a67ab-d7ee-4f72-b105-a122bd3993ca",
   "metadata": {},
   "outputs": [
    {
     "data": {
      "text/plain": [
       "[1, 2, 3, 4, 79, 6, 7, 8, 9, 'ayan', 6958.325]"
      ]
     },
     "execution_count": 20,
     "metadata": {},
     "output_type": "execute_result"
    }
   ],
   "source": [
    "l"
   ]
  },
  {
   "cell_type": "code",
   "execution_count": 21,
   "id": "3e34a0c6-ed1e-4247-998e-77d06f1b7f81",
   "metadata": {},
   "outputs": [],
   "source": [
    "a=\"ayan\""
   ]
  },
  {
   "cell_type": "code",
   "execution_count": 22,
   "id": "0ff4548c-63fb-49d7-a697-f896e2b2ea5c",
   "metadata": {},
   "outputs": [
    {
     "data": {
      "text/plain": [
       "'n'"
      ]
     },
     "execution_count": 22,
     "metadata": {},
     "output_type": "execute_result"
    }
   ],
   "source": [
    "a[3]"
   ]
  },
  {
   "cell_type": "code",
   "execution_count": 23,
   "id": "3f4f0f00-5808-4ea1-9cdb-22447f2e7f84",
   "metadata": {},
   "outputs": [
    {
     "ename": "NameError",
     "evalue": "name 'g' is not defined",
     "output_type": "error",
     "traceback": [
      "\u001b[0;31m---------------------------------------------------------------------------\u001b[0m",
      "\u001b[0;31mNameError\u001b[0m                                 Traceback (most recent call last)",
      "Cell \u001b[0;32mIn[23], line 1\u001b[0m\n\u001b[0;32m----> 1\u001b[0m a[\u001b[38;5;241m3\u001b[39m]\u001b[38;5;241m=\u001b[39m\u001b[43mg\u001b[49m\n",
      "\u001b[0;31mNameError\u001b[0m: name 'g' is not defined"
     ]
    }
   ],
   "source": [
    "a[3]=g"
   ]
  },
  {
   "cell_type": "code",
   "execution_count": null,
   "id": "2c38b518-5956-4ba9-89b3-3d6a8b2b08aa",
   "metadata": {},
   "outputs": [],
   "source": []
  }
 ],
 "metadata": {
  "kernelspec": {
   "display_name": "Python 3 (ipykernel)",
   "language": "python",
   "name": "python3"
  },
  "language_info": {
   "codemirror_mode": {
    "name": "ipython",
    "version": 3
   },
   "file_extension": ".py",
   "mimetype": "text/x-python",
   "name": "python",
   "nbconvert_exporter": "python",
   "pygments_lexer": "ipython3",
   "version": "3.10.8"
  }
 },
 "nbformat": 4,
 "nbformat_minor": 5
}
